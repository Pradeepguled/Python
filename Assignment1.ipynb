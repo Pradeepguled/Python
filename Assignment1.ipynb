{
 "cells": [
  {
   "cell_type": "code",
   "execution_count": 2,
   "id": "d7371e1e-6876-41f1-8d7f-cb3af89ecaf2",
   "metadata": {},
   "outputs": [
    {
     "data": {
      "text/plain": [
       "'for\\n1]number of iteration are known\\nwhile\\n1]number of iteration are not known'"
      ]
     },
     "execution_count": 2,
     "metadata": {},
     "output_type": "execute_result"
    }
   ],
   "source": [
    "'''when to use ?\n",
    "for\n",
    "1]number of iteration are known\n",
    "while\n",
    "1]number of iteration are not known'''"
   ]
  },
  {
   "cell_type": "code",
   "execution_count": 3,
   "id": "fdb49f5a-b54f-431b-af1f-c06eba993791",
   "metadata": {},
   "outputs": [
    {
     "name": "stdout",
     "output_type": "stream",
     "text": [
      "0\n",
      "1\n",
      "2\n",
      "3\n",
      "4\n"
     ]
    }
   ],
   "source": [
    "#for loop example \n",
    "for i in range(0,5): # Total number of iterations are known\n",
    "    print(i)"
   ]
  },
  {
   "cell_type": "code",
   "execution_count": 5,
   "id": "78b5cb5f-ac2f-4786-85a1-5e76ef1c119e",
   "metadata": {},
   "outputs": [
    {
     "name": "stdout",
     "output_type": "stream",
     "text": [
      "0\n",
      "1\n",
      "2\n",
      "3\n",
      "4\n"
     ]
    }
   ],
   "source": [
    "#While loop example\n",
    "n=0\n",
    "while(n<5):  #Condition is known\n",
    "    print(n)\n",
    "    n=n+1\n",
    "    "
   ]
  },
  {
   "cell_type": "code",
   "execution_count": 9,
   "id": "10e8f277-ba87-4861-a290-303278404699",
   "metadata": {},
   "outputs": [
    {
     "name": "stdout",
     "output_type": "stream",
     "text": [
      "55\n",
      "3628800\n"
     ]
    }
   ],
   "source": [
    "#Question number 2\n",
    "sum1=0\n",
    "prod=1\n",
    "for i in range (1,11):\n",
    "    sum1=sum1+i\n",
    "    prod=prod*i\n",
    "print(sum1)\n",
    "print(prod)"
   ]
  },
  {
   "cell_type": "code",
   "execution_count": 11,
   "id": "39046b87-6de7-4c5f-8102-de0f44282963",
   "metadata": {},
   "outputs": [
    {
     "name": "stdout",
     "output_type": "stream",
     "text": [
      "55\n",
      "3628800\n"
     ]
    }
   ],
   "source": [
    "n=10\n",
    "sum1=0\n",
    "prod=1\n",
    "while(n>=1):\n",
    "    sum1=sum1+n\n",
    "    prod=prod*n\n",
    "    n=n-1\n",
    "print(sum1)\n",
    "print(prod)\n"
   ]
  },
  {
   "cell_type": "code",
   "execution_count": 17,
   "id": "e43f30c3-d47c-4b13-91c1-367f324e4a35",
   "metadata": {},
   "outputs": [
    {
     "name": "stdin",
     "output_type": "stream",
     "text": [
      "enter the charge 310\n"
     ]
    },
    {
     "name": "stdout",
     "output_type": "stream",
     "text": [
      "Total amount is  2250\n"
     ]
    }
   ],
   "source": [
    "#Question number 3\n",
    "unit=int(input(\"enter the charge\"))\n",
    "amount=0;\n",
    "if (unit<=100 and unit>0):\n",
    "         amount=unit*4.5\n",
    "elif (unit>100 and unit <=200):\n",
    "         amount=450+((unit-100)*6)\n",
    "elif (unit>200 and unit <=300):\n",
    "         amount=1050+((unit-200)*10)\n",
    "elif (unit >300):\n",
    "         amount=2050+((unit-300)*20)\n",
    "print(\"Total amount is \",amount)\n",
    "         "
   ]
  },
  {
   "cell_type": "code",
   "execution_count": 18,
   "id": "08dca9b5-17b0-4aa8-bc9d-a16f2571cad4",
   "metadata": {},
   "outputs": [
    {
     "name": "stdout",
     "output_type": "stream",
     "text": [
      "[2, 4, 5, 6, 8, 10, 12, 14, 15, 16, 18, 20, 22, 24, 25, 26, 28, 30, 32, 34, 35, 36, 38, 40, 42, 44, 45, 46, 48, 50, 52, 54, 55, 56, 58, 60, 62, 64, 65, 66, 68, 70, 72, 74, 75, 76, 78, 80, 82, 84, 85, 86, 88, 90, 92, 94, 95, 96, 98, 100]\n"
     ]
    }
   ],
   "source": [
    "#Questionn\n",
    "list1=[]\n",
    "for i in range(1,101):\n",
    "    cube=1\n",
    "    cube=i*i*i\n",
    "    if (cube%4==0 or cube%5==0):\n",
    "        list1.append(i)\n",
    "print(list1)"
   ]
  },
  {
   "cell_type": "code",
   "execution_count": 4,
   "id": "e84fed00-05d5-4b2f-a397-e4a47f723fdb",
   "metadata": {},
   "outputs": [
    {
     "name": "stdout",
     "output_type": "stream",
     "text": [
      "12\n"
     ]
    }
   ],
   "source": [
    "#Question 5\n",
    "string1 = \"I want to become a data scientist\"\n",
    "count=0\n",
    "for i in string1:\n",
    "    i=i.lower()\n",
    "    if (i=='a' or i=='e' or i=='i' or i=='o' or i=='u'):\n",
    "        count+=1\n",
    "print(count)\n",
    "\n"
   ]
  },
  {
   "cell_type": "code",
   "execution_count": null,
   "id": "bdaff974-5987-46f4-8fbf-e85a61165dbb",
   "metadata": {},
   "outputs": [],
   "source": []
  }
 ],
 "metadata": {
  "kernelspec": {
   "display_name": "Python 3 (ipykernel)",
   "language": "python",
   "name": "python3"
  },
  "language_info": {
   "codemirror_mode": {
    "name": "ipython",
    "version": 3
   },
   "file_extension": ".py",
   "mimetype": "text/x-python",
   "name": "python",
   "nbconvert_exporter": "python",
   "pygments_lexer": "ipython3",
   "version": "3.10.8"
  }
 },
 "nbformat": 4,
 "nbformat_minor": 5
}
