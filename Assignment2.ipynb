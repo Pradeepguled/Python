{
 "cells": [
  {
   "cell_type": "code",
   "execution_count": 3,
   "id": "7efee337-8a7a-44d5-9bb8-9b59b61c18ed",
   "metadata": {},
   "outputs": [
    {
     "data": {
      "text/plain": [
       "[1, 3, 5, 7, 9, 11, 13, 15, 17, 19, 21, 23, 25]"
      ]
     },
     "execution_count": 3,
     "metadata": {},
     "output_type": "execute_result"
    }
   ],
   "source": [
    "#1)Key word used to creste function is \"def\"\n",
    "\n",
    "def oddlist():\n",
    "    list=[]\n",
    "    for i in range(1,26,2):\n",
    "        list.append(i)\n",
    "    return list\n",
    "oddlist()\n",
    " \n",
    "    "
   ]
  },
  {
   "cell_type": "code",
   "execution_count": 4,
   "id": "01924996-69f9-4302-b685-179182828c49",
   "metadata": {},
   "outputs": [
    {
     "name": "stdout",
     "output_type": "stream",
     "text": [
      "kamleessh\n",
      "miss lR.saniha\n"
     ]
    }
   ],
   "source": [
    "'''1)*args is used to pass variable number of arguments to a function,non key worded\n",
    "   2)**kwargs is used to pass key worded,variable length argument list'''\n",
    "def forargs(*args):\n",
    "    for arg in args:\n",
    "        print(arg)\n",
    "forargs(\"kamleessh\",'miss lR.saniha')"
   ]
  },
  {
   "cell_type": "code",
   "execution_count": 10,
   "id": "68695d2b-1f5b-41b8-aab4-8c80b8a2984a",
   "metadata": {},
   "outputs": [
    {
     "name": "stdout",
     "output_type": "stream",
     "text": [
      "lr saniha\n",
      "pc Pradeep\n"
     ]
    }
   ],
   "source": [
    "def forkargs(**kwargs):\n",
    "    for k,v in kwargs.items():\n",
    "        print(k,v)\n",
    "forkargs(lr=\"saniha\",pc=\"Pradeep\")"
   ]
  },
  {
   "cell_type": "code",
   "execution_count": 12,
   "id": "683acc6d-db6e-44b1-8bf3-812933d4a834",
   "metadata": {},
   "outputs": [
    {
     "name": "stdout",
     "output_type": "stream",
     "text": [
      "2\n",
      "4\n",
      "6\n",
      "8\n",
      "10\n"
     ]
    }
   ],
   "source": [
    "'''An iterator is an object that contains a countable number of values.\n",
    "It uses the next() method for iteration.'''\n",
    "mystr = [2,4,6,8,10,12,14,18,20]\n",
    "myit = iter(mystr)\n",
    "\n",
    "print(next(myit))\n",
    "print(next(myit))\n",
    "print(next(myit))\n",
    "print(next(myit))\n",
    "print(next(myit))"
   ]
  },
  {
   "cell_type": "code",
   "execution_count": 13,
   "id": "489a4b57-9f69-4361-830a-19a10a62876b",
   "metadata": {},
   "outputs": [
    {
     "name": "stdout",
     "output_type": "stream",
     "text": [
      "1\n",
      "2\n",
      "3\n"
     ]
    }
   ],
   "source": [
    "'''1)a generator is a function that returns an iterator that produces a sequence of values when iterated over.\n",
    "   2)The yield keyword in Python controls the flow of a generator function. This is similar to a return statement used for returning values in Python.'''\n",
    "\n",
    "def Generator():\n",
    "    yield 1           \n",
    "    yield 2           \n",
    "    yield 3           \n",
    "  \n",
    "\n",
    "for value in Generator():\n",
    "    print(value)"
   ]
  },
  {
   "cell_type": "code",
   "execution_count": 19,
   "id": "5a6b67e7-6e39-4b60-8783-b7b4f896ff2e",
   "metadata": {},
   "outputs": [
    {
     "name": "stdin",
     "output_type": "stream",
     "text": [
      "\n",
      "Please Enter the Range :  20\n"
     ]
    },
    {
     "name": "stdout",
     "output_type": "stream",
     "text": [
      "0\n",
      "1\n",
      "1\n",
      "2\n",
      "3\n",
      "5\n",
      "8\n",
      "13\n",
      "21\n",
      "34\n",
      "55\n",
      "89\n",
      "144\n",
      "233\n",
      "377\n",
      "610\n",
      "987\n",
      "1597\n",
      "2584\n",
      "4181\n"
     ]
    }
   ],
   "source": [
    "Number = int(input(\"\\nPlease Enter the Range : \"))\n",
    "\n",
    "# Initializing First and Second Values\n",
    "i = 0\n",
    "First_Value = 0\n",
    "Second_Value = 1\n",
    "           \n",
    "# Find & Displaying\n",
    "while(i < Number):\n",
    "    if(i <= 1):\n",
    "        Next = i\n",
    "    else:\n",
    "        Next = First_Value + Second_Value\n",
    "        First_Value = Second_Value\n",
    "        Second_Value = Next\n",
    "    print(Next)\n",
    "    i = i + 1"
   ]
  },
  {
   "cell_type": "code",
   "execution_count": 2,
   "id": "79a75b81-6331-47d1-8add-531382342e26",
   "metadata": {},
   "outputs": [
    {
     "data": {
      "text/plain": [
       "['p', 'w', 's', 'k', 'i', 'l', 'l', 's']"
      ]
     },
     "execution_count": 2,
     "metadata": {},
     "output_type": "execute_result"
    }
   ],
   "source": [
    "string1=\"pwskills\"\n",
    "[i for i in string1]"
   ]
  },
  {
   "cell_type": "code",
   "execution_count": 15,
   "id": "2e4a52d4-5c8b-405c-a75e-05bbe2a67e47",
   "metadata": {},
   "outputs": [
    {
     "name": "stdin",
     "output_type": "stream",
     "text": [
      " 1221\n"
     ]
    },
    {
     "name": "stdout",
     "output_type": "stream",
     "text": [
      "1221\n",
      "pallindrome\n"
     ]
    }
   ],
   "source": [
    "n=int(input())\n",
    "n1=n\n",
    "rev=0\n",
    "while(n!=0):\n",
    "    rem=n%10\n",
    "    rev=rev*10+rem\n",
    "    n=n//10\n",
    "print(rev)\n",
    "if(n1==rev):\n",
    "    print(\"pallindrome\")\n",
    "else:\n",
    "    print(\"Not a pallindrome\")\n",
    "    \n",
    "    "
   ]
  },
  {
   "cell_type": "code",
   "execution_count": 18,
   "id": "2952eab4-5a2c-4b49-b5e1-9e59cf173d59",
   "metadata": {},
   "outputs": [
    {
     "data": {
      "text/plain": [
       "[1,\n",
       " 3,\n",
       " 5,\n",
       " 7,\n",
       " 9,\n",
       " 11,\n",
       " 13,\n",
       " 15,\n",
       " 17,\n",
       " 19,\n",
       " 21,\n",
       " 23,\n",
       " 25,\n",
       " 27,\n",
       " 29,\n",
       " 31,\n",
       " 33,\n",
       " 35,\n",
       " 37,\n",
       " 39,\n",
       " 41,\n",
       " 43,\n",
       " 45,\n",
       " 47,\n",
       " 49,\n",
       " 51,\n",
       " 53,\n",
       " 55,\n",
       " 57,\n",
       " 59,\n",
       " 61,\n",
       " 63,\n",
       " 65,\n",
       " 67,\n",
       " 69,\n",
       " 71,\n",
       " 73,\n",
       " 75,\n",
       " 77,\n",
       " 79,\n",
       " 81,\n",
       " 83,\n",
       " 85,\n",
       " 87,\n",
       " 89,\n",
       " 91,\n",
       " 93,\n",
       " 95,\n",
       " 97,\n",
       " 99]"
      ]
     },
     "execution_count": 18,
     "metadata": {},
     "output_type": "execute_result"
    }
   ],
   "source": [
    "[i for i in range(1,101,2)]"
   ]
  },
  {
   "cell_type": "code",
   "execution_count": null,
   "id": "e376ba57-278f-4ac6-831e-9efb654558c1",
   "metadata": {},
   "outputs": [],
   "source": []
  }
 ],
 "metadata": {
  "kernelspec": {
   "display_name": "Python 3 (ipykernel)",
   "language": "python",
   "name": "python3"
  },
  "language_info": {
   "codemirror_mode": {
    "name": "ipython",
    "version": 3
   },
   "file_extension": ".py",
   "mimetype": "text/x-python",
   "name": "python",
   "nbconvert_exporter": "python",
   "pygments_lexer": "ipython3",
   "version": "3.10.8"
  }
 },
 "nbformat": 4,
 "nbformat_minor": 5
}
